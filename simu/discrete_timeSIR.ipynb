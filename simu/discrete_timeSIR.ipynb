{
 "cells": [
  {
   "cell_type": "code",
   "execution_count": 1,
   "metadata": {},
   "outputs": [],
   "source": [
    "import numpy as np\n",
    "import matplotlib.pyplot as plt\n",
    "%matplotlib inline"
   ]
  },
  {
   "cell_type": "markdown",
   "metadata": {},
   "source": [
    "# SEIR model and mean field approximation "
   ]
  },
  {
   "cell_type": "code",
   "execution_count": 2,
   "metadata": {},
   "outputs": [],
   "source": [
    "alphaE=0.01\n",
    "alphaI=0.08\n",
    "alphaR=0.02\n",
    "alphaL=0.01\n",
    "alphaA=0.04\n",
    "def computeK(m):\n",
    "    K = np.zeros(shape=(4,4))\n",
    "    K[0,1] = alphaE+alphaI*m[2];     K[0,0] = 1-K[0,1]\n",
    "    K[1,2] = alphaA;                 K[1,1] = 1-K[1,2]\n",
    "    K[2,3] = alphaR;                 K[2,2] = 1-K[2,3]\n",
    "    K[3,0] = alphaL;                 K[3,3] = 1-K[3,0]\n",
    "    for i in range(3):\n",
    "        for j in range(3):\n",
    "            if K[i,j] < 0 or K[i,j] > 1: \n",
    "                print('rate error: K[',i,j,']=',K[i,j])\n",
    "    return(K)\n",
    "\n",
    "m0 = np.array([1,0,0,0])\n",
    "\n",
    "def simulate(m0,T):\n",
    "    m=m0\n",
    "    M=np.zeros(shape=(T,4))\n",
    "    for t in range(T):\n",
    "        m = np.tensordot(m,computeK(m),1)\n",
    "        M[t,:] = m\n",
    "    return(M)"
   ]
  },
  {
   "cell_type": "code",
   "execution_count": 3,
   "metadata": {},
   "outputs": [
    {
     "data": {
      "text/plain": [
       "<matplotlib.legend.Legend at 0x1090ea6d8>"
      ]
     },
     "execution_count": 3,
     "metadata": {},
     "output_type": "execute_result"
    },
    {
     "data": {
      "image/png": "[encoded data removed]",
      "text/plain": [
       "<matplotlib.figure.Figure at 0x10796a320>"
      ]
     },
     "metadata": {},
     "output_type": "display_data"
    }
   ],
   "source": [
    "M = simulate(m0,500)\n",
    "plt.plot(M[:,0])\n",
    "plt.plot(M[:,1])\n",
    "plt.legend(['S','I'])\n"
   ]
  },
  {
   "cell_type": "markdown",
   "metadata": {},
   "source": [
    "# Refined mean field approximation "
   ]
  },
  {
   "cell_type": "code",
   "execution_count": 4,
   "metadata": {},
   "outputs": [],
   "source": [
    "def computeA(m):\n",
    "    return(np.array([\n",
    "        [1-(alphaE+alphaI*m[2]), 0,          -alphaI*m[0],  alphaL],\n",
    "        [alphaE+alphaI*m[2],     1-alphaA,   alphaI*m[0],   0],\n",
    "        [0,                      alphaA,     1-alphaR,      0],\n",
    "        [0,                      0,          alphaR,        1-alphaL]]))\n",
    "def computeB(m):\n",
    "    B = np.zeros(shape=(4,4,4))\n",
    "    B[0,0,2] = -alphaI\n",
    "    B[0,2,0] = -alphaI\n",
    "    B[1,0,2] = alphaI\n",
    "    B[1,2,0] = alphaI\n",
    "    return(B)\n",
    "def computeGamma(m):\n",
    "    G = np.zeros(shape=(4,4))\n",
    "    K = computeK(m)\n",
    "    for j in range(4):\n",
    "        for k in range(4):\n",
    "            if j==k: \n",
    "                G[j,k] = sum([m[i]*K[i,j]*(1-K[i,j]) for i in range(4)])\n",
    "            else:\n",
    "                G[j,k] = sum([m[i]*K[i,j]*(-K[i,k]) for i in range(4)])\n",
    "    return(G)\n",
    "    \n",
    "def refinedMF(m0,T):\n",
    "    m = m0\n",
    "    v = np.zeros((4))\n",
    "    w = np.zeros((4,4))\n",
    "    \n",
    "    M=[]\n",
    "    V=[]\n",
    "    W=[]\n",
    "    \n",
    "    for t in range(T):\n",
    "        A = computeA(m)\n",
    "        B = computeB(m)\n",
    "        Gamma = computeGamma(m)\n",
    "        \n",
    "        M.append(m)\n",
    "        \n",
    "        v = np.dot(A,v) + np.tensordot(B,w,2)/2\n",
    "        w = Gamma + np.dot(np.dot(A,w),np.transpose(A))\n",
    "        m = np.tensordot(m,computeK(m),1)\n",
    "        \n",
    "        V.append(v)\n",
    "        W.append(w)\n",
    "        \n",
    "    return(np.array(M),np.array(V),np.array(W))\n",
    "\n",
    "M,V,W = refinedMF(m0,500)\n"
   ]
  },
  {
   "cell_type": "code",
   "execution_count": 5,
   "metadata": {},
   "outputs": [
    {
     "data": {
      "image/png": "[encoded data removed]",
      "text/plain": [
       "<matplotlib.figure.Figure at 0x109098860>"
      ]
     },
     "metadata": {},
     "output_type": "display_data"
    }
   ],
   "source": [
    "N=10\n",
    "plt.plot(M[:,0])\n",
    "plt.plot(M[:,0]+V[:,0]/N,'--')\n",
    "plt.grid()\n",
    "#plt.ylim([0,0.4])"
   ]
  },
  {
   "cell_type": "code",
   "execution_count": 6,
   "metadata": {},
   "outputs": [
    {
     "name": "stdout",
     "output_type": "stream",
     "text": [
      "[0.16399148 0.11936619 0.23892306 0.47771927]\n",
      "[0.1885441  0.1158525  0.23200904 0.46359436]\n"
     ]
    }
   ],
   "source": [
    "print(M[-1,:])\n",
    "print(M[-1,:] + V[-1,:]/N)"
   ]
  },
  {
   "cell_type": "markdown",
   "metadata": {},
   "source": [
    "# Comparison with simulations \n",
    "\n",
    "Note : in order to avoid redoing the 50.000 simulations each time (which takes ~1h), the results are saved in a file. It is possible to force the program to recompute all simulation either by deleting this file or by using \"forceRedoSimulation=True\". "
   ]
  },
  {
   "cell_type": "code",
   "execution_count": 7,
   "metadata": {},
   "outputs": [
    {
     "name": "stdout",
     "output_type": "stream",
     "text": [
      "50220/55000"
     ]
    },
    {
     "ename": "KeyboardInterrupt",
     "evalue": "",
     "output_type": "error",
     "traceback": [
      "\u001b[0;31m---------------------------------------------------------------------------\u001b[0m",
      "\u001b[0;31mKeyboardInterrupt\u001b[0m                         Traceback (most recent call last)",
      "\u001b[0;32m<ipython-input-7-c73832403b03>\u001b[0m in \u001b[0;36m<module>\u001b[0;34m()\u001b[0m\n\u001b[1;32m     38\u001b[0m \u001b[0;32mfor\u001b[0m \u001b[0mnumberSimu\u001b[0m \u001b[0;32min\u001b[0m \u001b[0mrange\u001b[0m\u001b[0;34m(\u001b[0m\u001b[0;36m0\u001b[0m\u001b[0;34m,\u001b[0m\u001b[0;36m100000\u001b[0m\u001b[0;34m,\u001b[0m\u001b[0;36m5000\u001b[0m\u001b[0;34m)\u001b[0m\u001b[0;34m:\u001b[0m\u001b[0;34m\u001b[0m\u001b[0m\n\u001b[1;32m     39\u001b[0m     \u001b[0;31m# This code will generate 100000 simulation and saves the result each 5000 simulation (hence it can be interupted)\u001b[0m\u001b[0;34m\u001b[0m\u001b[0;34m\u001b[0m\u001b[0m\n\u001b[0;32m---> 40\u001b[0;31m     \u001b[0mMsimu\u001b[0m \u001b[0;34m=\u001b[0m \u001b[0maverageSimulation\u001b[0m\u001b[0;34m(\u001b[0m\u001b[0mm0\u001b[0m\u001b[0;34m,\u001b[0m\u001b[0mT\u001b[0m\u001b[0;34m=\u001b[0m\u001b[0;36m500\u001b[0m\u001b[0;34m,\u001b[0m\u001b[0mN\u001b[0m\u001b[0;34m=\u001b[0m\u001b[0;36m10\u001b[0m\u001b[0;34m,\u001b[0m\u001b[0mnumber_of_simulations\u001b[0m\u001b[0;34m=\u001b[0m\u001b[0mnumberSimu\u001b[0m\u001b[0;34m)\u001b[0m\u001b[0;34m\u001b[0m\u001b[0m\n\u001b[0m",
      "\u001b[0;32m<ipython-input-7-c73832403b03>\u001b[0m in \u001b[0;36maverageSimulation\u001b[0;34m(m0, T, N, number_of_simulations, forceRedoSimulation)\u001b[0m\n\u001b[1;32m     31\u001b[0m     \u001b[0;32mif\u001b[0m \u001b[0malreadyDoneSimu\u001b[0m \u001b[0;34m<\u001b[0m \u001b[0mnumber_of_simulations\u001b[0m\u001b[0;34m:\u001b[0m\u001b[0;34m\u001b[0m\u001b[0m\n\u001b[1;32m     32\u001b[0m         \u001b[0;32mfor\u001b[0m \u001b[0mi\u001b[0m \u001b[0;32min\u001b[0m \u001b[0mrange\u001b[0m\u001b[0;34m(\u001b[0m\u001b[0malreadyDoneSimu\u001b[0m\u001b[0;34m,\u001b[0m\u001b[0mnumber_of_simulations\u001b[0m\u001b[0;34m)\u001b[0m\u001b[0;34m:\u001b[0m\u001b[0;34m\u001b[0m\u001b[0m\n\u001b[0;32m---> 33\u001b[0;31m             \u001b[0mM\u001b[0m \u001b[0;34m+=\u001b[0m \u001b[0msimulate_MC\u001b[0m\u001b[0;34m(\u001b[0m\u001b[0mm0\u001b[0m\u001b[0;34m,\u001b[0m\u001b[0mT\u001b[0m\u001b[0;34m,\u001b[0m\u001b[0mN\u001b[0m\u001b[0;34m)\u001b[0m\u001b[0;34m\u001b[0m\u001b[0m\n\u001b[0m\u001b[1;32m     34\u001b[0m             \u001b[0mprint\u001b[0m\u001b[0;34m(\u001b[0m\u001b[0;34m'\\r{}/{}'\u001b[0m\u001b[0;34m.\u001b[0m\u001b[0mformat\u001b[0m\u001b[0;34m(\u001b[0m\u001b[0mi\u001b[0m\u001b[0;34m,\u001b[0m\u001b[0mnumber_of_simulations\u001b[0m\u001b[0;34m)\u001b[0m\u001b[0;34m,\u001b[0m\u001b[0mend\u001b[0m\u001b[0;34m=\u001b[0m\u001b[0;34m''\u001b[0m\u001b[0;34m)\u001b[0m\u001b[0;34m\u001b[0m\u001b[0m\n\u001b[1;32m     35\u001b[0m         \u001b[0mnp\u001b[0m\u001b[0;34m.\u001b[0m\u001b[0msavez\u001b[0m\u001b[0;34m(\u001b[0m\u001b[0mfileName\u001b[0m\u001b[0;34m,\u001b[0m\u001b[0mM\u001b[0m\u001b[0;34m=\u001b[0m\u001b[0mM\u001b[0m\u001b[0;34m,\u001b[0m\u001b[0mnbSimu\u001b[0m\u001b[0;34m=\u001b[0m\u001b[0mnumber_of_simulations\u001b[0m\u001b[0;34m)\u001b[0m\u001b[0;34m\u001b[0m\u001b[0m\n",
      "\u001b[0;32m<ipython-input-7-c73832403b03>\u001b[0m in \u001b[0;36msimulate_MC\u001b[0;34m(m0, T, N)\u001b[0m\n\u001b[1;32m     11\u001b[0m         \u001b[0mK\u001b[0m \u001b[0;34m=\u001b[0m \u001b[0mcomputeK\u001b[0m\u001b[0;34m(\u001b[0m\u001b[0mm\u001b[0m\u001b[0;34m)\u001b[0m\u001b[0;34m\u001b[0m\u001b[0m\n\u001b[1;32m     12\u001b[0m         \u001b[0mnewM\u001b[0m \u001b[0;34m=\u001b[0m \u001b[0mnp\u001b[0m\u001b[0;34m.\u001b[0m\u001b[0mzeros\u001b[0m\u001b[0;34m(\u001b[0m\u001b[0;36m4\u001b[0m\u001b[0;34m)\u001b[0m\u001b[0;34m\u001b[0m\u001b[0m\n\u001b[0;32m---> 13\u001b[0;31m         \u001b[0;32mfor\u001b[0m \u001b[0mi\u001b[0m \u001b[0;32min\u001b[0m \u001b[0mrange\u001b[0m\u001b[0;34m(\u001b[0m\u001b[0;36m4\u001b[0m\u001b[0;34m)\u001b[0m\u001b[0;34m:\u001b[0m\u001b[0;34m\u001b[0m\u001b[0m\n\u001b[0m\u001b[1;32m     14\u001b[0m             \u001b[0mnewM\u001b[0m \u001b[0;34m+=\u001b[0m \u001b[0mnp\u001b[0m\u001b[0;34m.\u001b[0m\u001b[0mrandom\u001b[0m\u001b[0;34m.\u001b[0m\u001b[0mmultinomial\u001b[0m\u001b[0;34m(\u001b[0m\u001b[0mint\u001b[0m\u001b[0;34m(\u001b[0m\u001b[0mN\u001b[0m\u001b[0;34m*\u001b[0m\u001b[0mm\u001b[0m\u001b[0;34m[\u001b[0m\u001b[0mi\u001b[0m\u001b[0;34m]\u001b[0m\u001b[0;34m)\u001b[0m\u001b[0;34m,\u001b[0m \u001b[0mK\u001b[0m\u001b[0;34m[\u001b[0m\u001b[0mi\u001b[0m\u001b[0;34m,\u001b[0m\u001b[0;34m:\u001b[0m\u001b[0;34m]\u001b[0m\u001b[0;34m,\u001b[0m \u001b[0msize\u001b[0m\u001b[0;34m=\u001b[0m\u001b[0;36m1\u001b[0m\u001b[0;34m)\u001b[0m\u001b[0;34m.\u001b[0m\u001b[0mreshape\u001b[0m\u001b[0;34m(\u001b[0m\u001b[0;36m4\u001b[0m\u001b[0;34m)\u001b[0m\u001b[0;34m\u001b[0m\u001b[0m\n\u001b[1;32m     15\u001b[0m         \u001b[0mm\u001b[0m \u001b[0;34m=\u001b[0m \u001b[0mnewM\u001b[0m\u001b[0;34m/\u001b[0m\u001b[0mN\u001b[0m\u001b[0;34m\u001b[0m\u001b[0m\n",
      "\u001b[0;31mKeyboardInterrupt\u001b[0m: "
     ]
    }
   ],
   "source": [
    "import os \n",
    "import sys\n",
    "import time\n",
    "\n",
    "def simulate_MC(m0,T,N):\n",
    "    m = m0\n",
    "    M = []\n",
    "    \n",
    "    for t in range(T):\n",
    "        M.append(m)\n",
    "        K = computeK(m)\n",
    "        newM = np.zeros(4)\n",
    "        for i in range(4):\n",
    "            newM += np.random.multinomial(int(N*m[i]), K[i,:], size=1).reshape(4)\n",
    "        m = newM/N\n",
    "    return(np.array(M))\n",
    "def averageSimulation(m0,T,N,number_of_simulations,forceRedoSimulation=False):\n",
    "    fileName = 'simu_SEIR_m{}_{}_{}_{}_N{}_T{}.npz'.format(int(m0[0]*1000),\n",
    "                                                           int(m0[1]*1000),\n",
    "                                                           int(m0[2]*1000),\n",
    "                                                           int(m0[3]*1000),\n",
    "                                                           N,\n",
    "                                                           T)\n",
    "    if os.path.isfile(fileName) and not forceRedoSimulation :\n",
    "        data = np.load(fileName)\n",
    "        alreadyDoneSimu = data['nbSimu']\n",
    "        M = data['M']\n",
    "    else:\n",
    "        alreadyDoneSimu = 0\n",
    "        M = np.zeros(shape=(T,len(m0)))\n",
    "    if alreadyDoneSimu < number_of_simulations:\n",
    "        for i in range(alreadyDoneSimu,number_of_simulations):\n",
    "            M += simulate_MC(m0,T,N)\n",
    "            print('\\r{}/{}'.format(i,number_of_simulations),end='')\n",
    "        np.savez(fileName,M=M,nbSimu=number_of_simulations)\n",
    "    return(M/max(alreadyDoneSimu,number_of_simulations))\n",
    "\n",
    "for numberSimu in range(0,50000,5000):\n",
    "    # This code will generate 100000 simulation and saves the result each 5000 simulation (hence it can be interupted)\n",
    "    Msimu = averageSimulation(m0,T=500,N=10,number_of_simulations=numberSimu)"
   ]
  },
  {
   "cell_type": "code",
   "execution_count": null,
   "metadata": {},
   "outputs": [],
   "source": [
    "f = plt.figure()\n",
    "#f.set_size_inches(3,2)\n",
    "plt.plot(M[:,0])\n",
    "plt.plot(M[:,0]+V[:,0]/N,'--')\n",
    "plt.plot(Msimu[:,0])\n",
    "plt.legend(['S (mean field)', 'S (refined mean field)','S (Simulation)'])\n",
    "f.savefig('SEIR_errorMF_N10.pdf')"
   ]
  },
  {
   "cell_type": "code",
   "execution_count": null,
   "metadata": {},
   "outputs": [],
   "source": [
    "f = plt.figure()\n",
    "f.set_size_inches(3,2.8)\n",
    "for i in range(4):\n",
    "    plt.plot(Msimu[:,i]-M[:,i])\n",
    "plt.ylim([-0.03,0.06])\n",
    "plt.legend(['{} mf Error'.format(i) for i in ['S','E','I','R']],loc='upper right')\n",
    "f.savefig('SEIR_errorMF_N10.pdf',bbox_inches='tight')"
   ]
  },
  {
   "cell_type": "code",
   "execution_count": null,
   "metadata": {},
   "outputs": [],
   "source": [
    "f = plt.figure()\n",
    "f.set_size_inches(3,2.8)\n",
    "for i in range(4):\n",
    "    plt.plot(Msimu[:,i]-M[:,i]-V[:,i]/N)\n",
    "plt.ylim([-0.03,0.06])\n",
    "plt.legend(['{} rmf Error'.format(i) for i in ['S','E','I','R']],loc='upper right')\n",
    "f.savefig('SEIR_errorRMF_N10.pdf',bbox_inches='tight')"
   ]
  },
  {
   "cell_type": "code",
   "execution_count": null,
   "metadata": {},
   "outputs": [],
   "source": []
  },
  {
   "cell_type": "code",
   "execution_count": null,
   "metadata": {},
   "outputs": [],
   "source": []
  }
 ],
 "metadata": {
  "kernelspec": {
   "display_name": "Python 3",
   "language": "python",
   "name": "python3"
  },
  "language_info": {
   "codemirror_mode": {
    "name": "ipython",
    "version": 3
   },
   "file_extension": ".py",
   "mimetype": "text/x-python",
   "name": "python",
   "nbconvert_exporter": "python",
   "pygments_lexer": "ipython3",
   "version": "3.6.4"
  }
 },
 "nbformat": 4,
 "nbformat_minor": 2
}
